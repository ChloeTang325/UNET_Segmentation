{
 "cells": [
  {
   "cell_type": "markdown",
   "metadata": {},
   "source": [
    "# Generate Metadata for Segmentation Images\n",
    "\n",
    "Zitian Tang\n",
    "\n",
    "11/10/2021"
   ]
  },
  {
   "cell_type": "code",
   "execution_count": 5,
   "metadata": {},
   "outputs": [],
   "source": [
    "import numpy as np\n",
    "import pandas as pd\n",
    "\n",
    "## Filesystem ##\n",
    "import os\n",
    "from os import listdir\n",
    "from os.path import isfile, join\n",
    "\n",
    "## PyTorch and TorchVision ##\n",
    "import torch\n",
    "import torchvision\n",
    "\n",
    "## Nibabel ##\n",
    "import nibabel as nib\n",
    "\n",
    "## Scikit Learn ##\n",
    "from sklearn.model_selection import train_test_split"
   ]
  },
  {
   "cell_type": "code",
   "execution_count": 59,
   "metadata": {},
   "outputs": [],
   "source": [
    "## Image Directory ##\n",
    "image_directory = '/datadrive/COVID_CT_Images'\n",
    "\n",
    "# Dataset 1 (combine train and val images)\n",
    "D1_im_dir = os.path.join(image_directory, 'Dataset_1/tr_im.nii')\n",
    "D1_lung_mask_dir = os.path.join(image_directory, 'Dataset_1/tr_lungmasks_updated.nii')\n",
    "D1_covid_mask_dir = os.path.join(image_directory, 'Dataset_1/tr_mask.nii')\n",
    "\n",
    "# Dataset 2\n",
    "D2_im_dir = os.path.join(image_directory, 'Dataset_2/rp_im')\n",
    "D2_lung_mask_dir = os.path.join(image_directory, 'Dataset_2/rp_lung_msk')\n",
    "D2_covid_mask_dir = os.path.join(image_directory, 'Dataset_2/rp_msk')\n",
    "\n",
    "# Dataset 3\n",
    "D3_im_dir = os.path.join(image_directory, 'Dataset_3/COVID-19-CT-Seg_20cases')\n",
    "D3_lung_mask_dir = os.path.join(image_directory, 'Dataset_3/Lung_Mask')\n",
    "D3_covid_mask_dir = os.path.join(image_directory, 'Dataset_3/Infection_Mask')\n",
    "\n",
    "## Slices Directory ##\n",
    "slices_path = '/datadrive/COVID_CT_Images/CT_slices'\n",
    "\n",
    "## Metadata Directory ##\n",
    "metadata_path = '/home/zitiantang/code/Segmentation/metadata.csv'\n",
    "\n",
    "## Dataset Sizes ##\n",
    "data1 = nib.load(D1_im_dir).get_fdata()\n",
    "data1_size = data1.shape[2]\n",
    "data2_size = len(listdir(D2_im_dir))\n",
    "data3_size = len(listdir(D3_im_dir))-1"
   ]
  },
  {
   "cell_type": "markdown",
   "metadata": {},
   "source": [
    "# Save Each Slice to a new Folder"
   ]
  },
  {
   "cell_type": "code",
   "execution_count": 15,
   "metadata": {},
   "outputs": [],
   "source": [
    "## Dataset 1 ##\n",
    "for i in range(data1_size):\n",
    "    image_data = nib.load(D1_im_dir).get_fdata()\n",
    "    lung_mask_data = nib.load(D1_lung_mask_dir).get_fdata()\n",
    "    covid_mask_data = nib.load(D1_covid_mask_dir).get_fdata()\n",
    "    # get slices\n",
    "    image_slice = image_data[:,:,i]\n",
    "    lung_mask_slice = lung_mask_data[:,:,i]\n",
    "    covid_mask_slice = covid_mask_data[:,:,i]\n",
    "    # where to save\n",
    "    image_path = slices_path+'/CT_lung_Dataset_20-03-24'+'_image_%s.npy'%f'{i}'\n",
    "    lung_mask_path = slices_path+'/CT_lung_Dataset_20-03-24'+'_lung_mask_%s.npy'%f'{i}'\n",
    "    covid_mask_path = slices_path+'/CT_lung_Dataset_20-03-24'+'_covid_mask_%s.npy'%f'{i}'\n",
    "    np.save(image_path, image_slice)\n",
    "    np.save(lung_mask_path, lung_mask_slice)\n",
    "    np.save(covid_mask_path, covid_mask_slice)"
   ]
  },
  {
   "cell_type": "code",
   "execution_count": 26,
   "id": "46c749c5",
   "metadata": {},
   "outputs": [],
   "source": [
    "## Dataset 2 ##\n",
    "counter = 0\n",
    "for i in range(1,10):\n",
    "    image_data = nib.load(D2_im_dir+'/%s.nii'%f'{i}').get_fdata()\n",
    "    lung_mask_data = nib.load(D2_lung_mask_dir+'/%s.nii'%f'{i}').get_fdata()\n",
    "    covid_mask_data = nib.load(D2_covid_mask_dir+'/%s.nii'%f'{i}').get_fdata()\n",
    "    for j in range(image_data.shape[2]):\n",
    "        # get slices\n",
    "        image_slice = image_data[:,:,j]\n",
    "        lung_mask_slice = lung_mask_data[:,:,j]\n",
    "        covid_mask_slice = covid_mask_data[:,:,j]\n",
    "        # where to save\n",
    "        image_path = slices_path+'/CT_lung_Dataset_20-04-13'+'_image_%s.npy'%f'{counter}'\n",
    "        lung_mask_path = slices_path+'/CT_lung_Dataset_20-04-13'+'_lung_mask_%s.npy'%f'{counter}'\n",
    "        covid_mask_path = slices_path+'/CT_lung_Dataset_20-04-13'+'_covid_mask_%s.npy'%f'{counter}'\n",
    "        np.save(image_path, image_slice)\n",
    "        np.save(lung_mask_path, lung_mask_slice)\n",
    "        np.save(covid_mask_path, covid_mask_slice)\n",
    "        counter += 1"
   ]
  },
  {
   "cell_type": "code",
   "execution_count": 45,
   "id": "1b898c03",
   "metadata": {},
   "outputs": [],
   "source": [
    "## Dataset 3 ##\n",
    "counter = 0\n",
    "for i in range(1,21):\n",
    "    image_data = nib.load(D3_im_dir+'/%s.nii'%f'{i}').get_fdata()\n",
    "    lung_mask_data = nib.load(D3_lung_mask_dir+'/%s.nii'%f'{i}').get_fdata()\n",
    "    covid_mask_data = nib.load(D3_covid_mask_dir+'/%s.nii'%f'{i}').get_fdata()\n",
    "    for j in range(image_data.shape[2]):\n",
    "        # get slices\n",
    "        image_slice = image_data[:,:,j]\n",
    "        lung_mask_slice = lung_mask_data[:,:,j]\n",
    "        covid_mask_slice = covid_mask_data[:,:,j]\n",
    "        # where to save\n",
    "        image_path = slices_path+'/CT_lung_Dataset_20-04-20'+'_image_%s.npy'%f'{counter}'\n",
    "        lung_mask_path = slices_path+'/CT_lung_Dataset_20-04-20'+'_lung_mask_%s.npy'%f'{counter}'\n",
    "        covid_mask_path = slices_path+'/CT_lung_Dataset_20-04-20'+'_covid_mask_%s.npy'%f'{counter}'\n",
    "        np.save(image_path, image_slice)\n",
    "        np.save(lung_mask_path, lung_mask_slice)\n",
    "        np.save(covid_mask_path, covid_mask_slice)\n",
    "        counter += 1"
   ]
  },
  {
   "cell_type": "markdown",
   "metadata": {},
   "source": [
    "# Generate Dataframe"
   ]
  },
  {
   "cell_type": "code",
   "execution_count": 65,
   "metadata": {},
   "outputs": [],
   "source": [
    "## Check if metadata dataframe already exist ##\n",
    "if 'metadata.csv' in listdir('/home/zitiantang/code/Segmentation'):\n",
    "    pass\n",
    "else:\n",
    "    image_paths = []\n",
    "    mask_lung_paths = []\n",
    "    mask_infection_paths = []\n",
    "    dataset_inf = []\n",
    "    for i in listdir(slices_path):\n",
    "        if 'image' in i:\n",
    "            ## image paths ##\n",
    "            image_paths.append(os.path.join(slices_path, i))\n",
    "            ## lung masks ##\n",
    "            front = i.split('image')[0]\n",
    "            end = i.split('image')[1]\n",
    "            mask_lung_paths.append(os.path.join(slices_path, front+'lung_mask'+end))\n",
    "            ## infection masks ##\n",
    "            mask_infection_paths.append(os.path.join(slices_path, front+'covid_mask'+end))\n",
    "            ## which dataset belongs to ##\n",
    "            dataset_inf.append('CT_'+i.split('_')[3])\n",
    "\n",
    "    ## convert lists into arrays ##\n",
    "    image_paths = np.expand_dims(image_paths, axis=-1)\n",
    "    mask_lung_paths = np.expand_dims(mask_lung_paths, axis=-1)\n",
    "    mask_infection_paths = np.expand_dims(mask_infection_paths, axis=-1)\n",
    "    dataset_inf = np.expand_dims(dataset_inf, axis=-1)\n",
    "\n",
    "    ## create dataframe ##\n",
    "    metadata_df = pd.DataFrame(np.hstack((image_paths, mask_lung_paths, mask_infection_paths, dataset_inf)), columns = ['CT_image_path', 'lung_mask_path', 'covid_infection_mask_path', 'Dataset_Label'])\n",
    "    \n",
    "    metadata_df.head()\n",
    "    metadata_df.to_csv(metadata_path)"
   ]
  },
  {
   "cell_type": "code",
   "execution_count": null,
   "id": "f5a41582",
   "metadata": {},
   "outputs": [],
   "source": []
  }
 ],
 "metadata": {
  "kernelspec": {
   "display_name": "Python 3",
   "language": "python",
   "name": "python3"
  },
  "language_info": {
   "codemirror_mode": {
    "name": "ipython",
    "version": 3
   },
   "file_extension": ".py",
   "mimetype": "text/x-python",
   "name": "python",
   "nbconvert_exporter": "python",
   "pygments_lexer": "ipython3",
   "version": "3.9.5"
  }
 },
 "nbformat": 4,
 "nbformat_minor": 5
}
